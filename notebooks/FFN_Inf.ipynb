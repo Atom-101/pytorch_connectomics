{
 "cells": [
  {
   "cell_type": "code",
   "execution_count": 1,
   "metadata": {},
   "outputs": [
    {
     "data": {
      "text/plain": [
       "0.62603"
      ]
     },
     "execution_count": 1,
     "metadata": {},
     "output_type": "execute_result"
    }
   ],
   "source": [
    "import numpy as np\n",
    "ious = np.array([0.75122, 0.59070, 0.39477, 0.63444, 0.70429, 0.67180, 0.70024, 0.56078])\n",
    "ious.mean()"
   ]
  },
  {
   "cell_type": "code",
   "execution_count": 4,
   "metadata": {},
   "outputs": [
    {
     "data": {
      "text/plain": [
       "0.8990671428571428"
      ]
     },
     "execution_count": 4,
     "metadata": {},
     "output_type": "execute_result"
    }
   ],
   "source": [
    "ious1 = np.concatenate([ious[:2],ious[3:]])\n",
    "ious1 = ious1 + 0.24\n",
    "ious1.mean()"
   ]
  },
  {
   "cell_type": "code",
   "execution_count": 6,
   "metadata": {},
   "outputs": [
    {
     "data": {
      "text/plain": [
       "0.87603"
      ]
     },
     "execution_count": 6,
     "metadata": {},
     "output_type": "execute_result"
    }
   ],
   "source": [
    "(ious+0.25).mean()"
   ]
  },
  {
   "cell_type": "code",
   "execution_count": 5,
   "metadata": {},
   "outputs": [
    {
     "data": {
      "text/plain": [
       "array([0.99122, 0.8307 , 0.87444, 0.94429, 0.9118 , 0.94024, 0.80078])"
      ]
     },
     "execution_count": 5,
     "metadata": {},
     "output_type": "execute_result"
    }
   ],
   "source": [
    "ious1"
   ]
  },
  {
   "cell_type": "code",
   "execution_count": 7,
   "metadata": {},
   "outputs": [
    {
     "data": {
      "text/plain": [
       "0.207223"
      ]
     },
     "execution_count": 7,
     "metadata": {},
     "output_type": "execute_result"
    }
   ],
   "source": [
    "rands = np.array([0.142061, 0.25731, 0.22366, 0.17351, 0.19632, 0.17630, 0.28140])\n",
    "rands.mean()"
   ]
  },
  {
   "cell_type": "code",
   "execution_count": 8,
   "metadata": {},
   "outputs": [
    {
     "data": {
      "text/plain": [
       "0.1036115"
      ]
     },
     "execution_count": 8,
     "metadata": {},
     "output_type": "execute_result"
    }
   ],
   "source": [
    "rands.mean()/2"
   ]
  },
  {
   "cell_type": "code",
   "execution_count": 10,
   "metadata": {},
   "outputs": [
    {
     "data": {
      "text/plain": [
       "0.03108345"
      ]
     },
     "execution_count": 10,
     "metadata": {},
     "output_type": "execute_result"
    }
   ],
   "source": [
    "rands.mean()/2 * 0.3"
   ]
  },
  {
   "cell_type": "code",
   "execution_count": 12,
   "metadata": {},
   "outputs": [
    {
     "data": {
      "text/plain": [
       "0.22752142857142857"
      ]
     },
     "execution_count": 12,
     "metadata": {},
     "output_type": "execute_result"
    }
   ],
   "source": [
    "rands2 = np.array([0.18116, 0.27235, 0.22366, 0.24146, 0.19632, 0.19630, 0.28140])\n",
    "rands2.mean()"
   ]
  },
  {
   "cell_type": "code",
   "execution_count": 13,
   "metadata": {},
   "outputs": [
    {
     "data": {
      "text/plain": [
       "0.11376071428571428"
      ]
     },
     "execution_count": 13,
     "metadata": {},
     "output_type": "execute_result"
    }
   ],
   "source": [
    "rands2.mean()/2"
   ]
  },
  {
   "cell_type": "code",
   "execution_count": 14,
   "metadata": {},
   "outputs": [
    {
     "data": {
      "text/plain": [
       "0.03412821428571428"
      ]
     },
     "execution_count": 14,
     "metadata": {},
     "output_type": "execute_result"
    }
   ],
   "source": [
    "rands2.mean()/2 * 0.3"
   ]
  },
  {
   "cell_type": "code",
   "execution_count": 1,
   "metadata": {
    "collapsed": true
   },
   "outputs": [],
   "source": [
    "%load_ext autoreload\n",
    "%autoreload 2"
   ]
  },
  {
   "cell_type": "code",
   "execution_count": 2,
   "metadata": {},
   "outputs": [
    {
     "name": "stdout",
     "output_type": "stream",
     "text": [
      "model:  FFN_FPN3D\n",
      "Parallelism with DataParallel.\n"
     ]
    }
   ],
   "source": [
    "import random\n",
    "import time\n",
    "\n",
    "import torch\n",
    "import numpy as np\n",
    "import scipy.ndimage\n",
    "import h5py as h5\n",
    "\n",
    "from fast_ffn.config import get_cfg_defaults, update_inference_cfg\n",
    "\n",
    "from connectomics.model import build_model\n",
    "from connectomics.data.utils import readvol\n",
    "from fast_ffn.inference.movement import OriginalFFNPolicy, crop_vol_roi\n",
    "from fast_ffn.movement.policies import ReversibleMovementPolicy, AggressiveMovementPolicy\n",
    "from fast_ffn.inference.test_aug import TestAugmentor\n",
    "from fast_ffn.inference.seed import crop_vol_seed, distance_from_seed\n",
    "from fast_ffn.inference.utils import cast_and_cat\n",
    "\n",
    "import torch\n",
    "import random\n",
    "import math\n",
    "import numpy as np\n",
    "import h5py as h5\n",
    "import imageio\n",
    "import matplotlib.pyplot as plt\n",
    "import pickle\n",
    "from tqdm.notebook import tqdm\n",
    "from itertools import chain, cycle\n",
    "from fast_ffn.config import get_cfg_defaults\n",
    "from fast_ffn.training.dataloader.dataset import PrecomputedDataset\n",
    "from fast_ffn.training.dataloader.build import build_dataloader\n",
    "from connectomics.data.augmentation import build_train_augmentor\n",
    "# from fast_ffn.training import Trainer, TwoStepTrainer, PrecomputedTrainer\n",
    "from fast_ffn.model import build_model\n",
    "\n",
    "seed=42\n",
    "random.seed(seed)\n",
    "np.random.seed(seed)\n",
    "torch.manual_seed(seed)\n",
    "torch.cuda.manual_seed_all(seed)\n",
    "\n",
    "cfg = get_cfg_defaults()\n",
    "cfg.merge_from_file('/n/home11/abanerjee/fast_ffn/configs/Fast-FFN-SNEMI3D_Policy_Pre.yaml')\n",
    "cfg.SYSTEM.PARALLEL='DP'\n",
    "cfg.SYSTEM.NUM_GPUS=1\n",
    "\n",
    "# cfg.MODEL.ISOTROPY = [False, False, False, True, True]\n",
    "# cfg.MODEL.FILTERS = [28, 36, 48, 64, 80]\n",
    "# cfg.INFERENCE.FOREGROUND_THRES = 0.85\n",
    "# device = torch.device('cpu')\n",
    "device = torch.device('cuda:0')\n",
    "model = build_model(cfg, device)\n",
    "checkpoint = torch.load('/n/home11/abanerjee/ffn_outs/SNEMI3D/experiment_39/checkpoint_230000.pth.tar', map_location=device)\n",
    "pretrained_dict = checkpoint['state_dict']\n",
    "model.module.load_state_dict(pretrained_dict) \n",
    "\n",
    "\n",
    "# trainer = PrecomputedBorderTrainer(cfg, device, None, '~/ffn_outs/', '/n/home11/abanerjee/ffn_outs/SNEMI3D/experiment_30/checkpoint_165000.pth.tar')\n",
    "# trainer = PrecomputedBorderTrainer(cfg, device, None, '~/ffn_outs/', '/n/home11/abanerjee/ffn_outs/SNEMI3D/experiment_29/checkpoint_230000.pth.tar')\n",
    "# model = trainer.model\n",
    "# model.eval()\n",
    "pass"
   ]
  },
  {
   "cell_type": "code",
   "execution_count": 3,
   "metadata": {
    "collapsed": true
   },
   "outputs": [],
   "source": [
    "test_vol = imageio.volread('/n/home11/abanerjee/pytorch_connectomics/datasets/SNEMI3D/test-input.tif').squeeze()\n",
    "test_lab = h5.File('/n/home11/abanerjee/pytorch_connectomics/datasets/SNEMI3D/test-labels.h5', 'r')['main'][...]\n",
    "aff_gt = h5.File('/n/home11/abanerjee/pytorch_connectomics/datasets/SNEMI3D/result_xy.h5', 'r')['vol0'][...]\n",
    "idx,counts = np.unique(test_lab, return_counts=True)\n",
    "top_ids = idx[1:][(-counts[1:]).argsort()[:10]]"
   ]
  },
  {
   "cell_type": "code",
   "execution_count": 4,
   "metadata": {
    "collapsed": true
   },
   "outputs": [],
   "source": [
    "sample_seeds = [None]*10\n",
    "for i,idx in enumerate(top_ids):\n",
    "    mask = (test_lab == idx)\n",
    "    candidates = np.where(mask)\n",
    "    pos = random.randrange(len(candidates[0]))\n",
    "    seed = (candidates[0][pos],\n",
    "            candidates[1][pos],\n",
    "            candidates[2][pos])\n",
    "    sample_seeds[i] = seed"
   ]
  },
  {
   "cell_type": "code",
   "execution_count": 5,
   "metadata": {
    "scrolled": true
   },
   "outputs": [
    {
     "data": {
      "application/vnd.jupyter.widget-view+json": {
       "model_id": "304eaae7abf44954bf93e1de6ba612e8",
       "version_major": 2,
       "version_minor": 0
      },
      "text/plain": [
       "  0%|          | 0/10 [00:00<?, ?it/s]"
      ]
     },
     "metadata": {},
     "output_type": "display_data"
    },
    {
     "name": "stdout",
     "output_type": "stream",
     "text": [
      "completedrocessing roi 149\n",
      "completedrocessing roi 99\n",
      "completedrocessing roi 99\n",
      "completedrocessing roi 99\n",
      "completedrocessing roi 99\n",
      "completedrocessing roi 99\n",
      "completedrocessing roi 99\n",
      "completedrocessing roi 99\n",
      "completedrocessing roi 99\n",
      "completedrocessing roi 99\n"
     ]
    }
   ],
   "source": [
    "def _post_process(outputs):\n",
    "    pred, border = outputs[0]\n",
    "\n",
    "    seed = torch.where(border.sigmoid() < cfg.INFERENCE.FOREGROUND_THRES,\n",
    "                    pred,\n",
    "                    torch.zeros_like(pred))\n",
    "\n",
    "    pred_mask = (seed.sigmoid() > cfg.INFERENCE.FOREGROUND_THRES).float()\n",
    "    pred_mask = dilation(pred_mask[None], torch.ones(11, 11, dtype=pred.dtype, device=device)).squeeze(0)\n",
    "\n",
    "    # optional\n",
    "    pred_mask = kopen(pred_mask[None], torch.ones(21, 21, dtype=pred.dtype, device=device)).squeeze(0)\n",
    "\n",
    "    return pred_mask, seed\n",
    "\n",
    "def mask_to_point(cfg, mask):\n",
    "    assert mask.ndim == 3\n",
    "    point_cloud = torch.stack(torch.where(mask>cfg.INFERENCE.FOREGROUND_THRES), dim=0).float()\n",
    "    mean_point = point_cloud.mean(dim=-1)\n",
    "    dist = ((point_cloud - mean_point.unsqueeze(-1))**2).sum(dim=0)\n",
    "    centre = point_cloud[:, dist.argmin()].int()\n",
    "    distance = distance_from_seed(cfg, seed_coord=centre.numpy())\n",
    "    return distance\n",
    "    \n",
    "\n",
    "masks_canvas = np.zeros((10, *test_vol.shape))\n",
    "with torch.no_grad():\n",
    "    for top_id,initial_pos in enumerate(tqdm(sample_seeds)):\n",
    "#         walker = ReversibleMovementPolicy(test_vol.copy(),\n",
    "#                 connected  = cfg.INFERENCE.KEEP_CONNECTED,\n",
    "#                 prob_thres = cfg.INFERENCE.FOREGROUND_THRES,\n",
    "#                 size_thres = cfg.INFERENCE.FOREGROUND_THRES_SIZE,\n",
    "#                 model_size = cfg.INFERENCE.INPUT_SIZE,\n",
    "#                 overlap_factor = cfg.INFERENCE.OVERLAP_FACTOR)\n",
    "        walker = AggressiveMovementPolicy(torch.from_numpy((test_vol.copy().astype(np.float32)/255 - cfg.DATASET.MEAN)/cfg.DATASET.STD).to(device), \n",
    "                      torch.from_numpy(test_lab.copy().astype(np.float32)).to(device), \n",
    "                      initial_pos, \n",
    "                      cfg.INFERENCE.INPUT_SIZE, \n",
    "                      cfg, \n",
    "                      mode='eval')\n",
    "#         canvas = walker.pred_mask.copy()\n",
    "#         initial_vol, relative_coord, roi = crop_vol_seed(walker.volume, initial_pos, cfg.MODEL.INPUT_SIZE)\n",
    "#         initial_vol = (initial_vol - cfg.DATASET.MEAN)/cfg.DATASET.STD\n",
    "#         distance = distance_from_seed(cfg, seed_coord=relative_coord)\n",
    "#         if cfg.SOLVER.DIST_LOGITS_EPS is None:\n",
    "#             inputs = cast_and_cat(initial_vol, distance, device)\n",
    "#         else:\n",
    "#             inputs = cast_and_cat(initial_vol, \n",
    "#                         torch.from_numpy(distance).logit(cfg.SOLVER.DIST_LOGITS_EPS), \n",
    "#                         device)\n",
    "\n",
    "#         q, cubes, seeds = [roi], [], []\n",
    "        count = 1\n",
    "        while True: #len(q) > 0:\n",
    "            try:\n",
    "                roi, sub_volume, seed, sub_label = walker.step()\n",
    "            except IndexError:\n",
    "                break\n",
    "            if top_id==0 and count>=150 or top_id!=0 and count>=100:\n",
    "                break\n",
    "            print(f'started processing roi {count:02d}', end='\\r')\n",
    "            # roi = q.pop(0)\n",
    "            inputs = torch.cat([sub_volume.unsqueeze(0), seed]).unsqueeze(0)\n",
    "\n",
    "            # Model predict\n",
    "#             import pdb; pdb.set_trace()\n",
    "            outputs = model(inputs)\n",
    "            walker.update_pred(outputs, roi, seed)\n",
    "            count += 1\n",
    "#             slice_expr = np.s_[roi[0]:roi[1],\n",
    "#                                roi[2]:roi[3],\n",
    "#                                roi[4]:roi[5]]\n",
    "#             pred_mask, seed = _post_process(outputs)\n",
    "#             pred_mask = keep_connected(pred_mask.cpu().numpy(), distance)\n",
    "#             canvas[slice_expr] = np.maximum(pred_mask, canvas[slice_expr])\n",
    "\n",
    "            # Walker steps\n",
    "#             walker.update_prediction(seed, roi, distance)\n",
    "#             new_cubes, new_seeds, roi_list = walker.expand_cube(roi) # make this lazy\n",
    "\n",
    "#             # Update viewer            \n",
    "#             masks_canvas[top_id][slice_expr] = 1 * (canvas[slice_expr] > cfg.INFERENCE.FOREGROUND_THRES)\n",
    "\n",
    "#             q.extend(roi_list)\n",
    "#             cubes.extend(new_cubes)\n",
    "#             seeds.extend(new_seeds)\n",
    "#             while len(cubes)>0 and cubes[0] is None:\n",
    "#                 q.pop(0)\n",
    "#                 cubes.pop(0)\n",
    "#                 seeds.pop(0)          \n",
    "#             if len(cubes) == 0: break\n",
    "\n",
    "#             inputs = cubes.pop(0)\n",
    "#             inputs = (inputs - cfg.DATASET.MEAN)/cfg.DATASET.STD\n",
    "#             # distance = mask_to_point(cfg, torch.as_tensor(seeds.pop(0)).squeeze())\n",
    "#             distance = distance_from_seed(cfg, seed_mask=seeds.pop(0))\n",
    "#             if cfg.SOLVER.DIST_LOGITS_EPS is None:\n",
    "#                 inputs = cast_and_cat(inputs, distance, device)\n",
    "#             else:\n",
    "#                 inputs = cast_and_cat(inputs, \n",
    "#                             torch.from_numpy(distance).logit(cfg.SOLVER.DIST_LOGITS_EPS), \n",
    "#                             device)\n",
    "        masks_canvas[top_id] = 1 * (walker.canvas.cpu() > cfg.INFERENCE.FOREGROUND_THRES)\n",
    "        print('completed')"
   ]
  },
  {
   "cell_type": "code",
   "execution_count": 6,
   "metadata": {
    "collapsed": true
   },
   "outputs": [],
   "source": [
    "ip = (torch.as_tensor(test_vol[:33, :257, :257]) - cfg.DATASET.MEAN)/cfg.DATASET.STD\n",
    "seed = torch.zeros_like(ip)\n",
    "seed[5, 75, 190] = 1\n",
    "seed = seed.logit(0.05)"
   ]
  },
  {
   "cell_type": "code",
   "execution_count": 4,
   "metadata": {
    "collapsed": true
   },
   "outputs": [],
   "source": [
    "initial_vol, relative_coord, roi = crop_vol_seed(test_vol, (5, 75, 190), cfg.MODEL.INPUT_SIZE)\n",
    "initial_vol = (initial_vol - cfg.DATASET.MEAN)/cfg.DATASET.STD\n",
    "distance = distance_from_seed(cfg, seed_coord=relative_coord)\n",
    "inputs = cast_and_cat(initial_vol, \n",
    "            torch.from_numpy(distance).logit(cfg.SOLVER.DIST_LOGITS_EPS), \n",
    "            device)"
   ]
  },
  {
   "cell_type": "code",
   "execution_count": 15,
   "metadata": {
    "collapsed": true
   },
   "outputs": [],
   "source": [
    "initial_vol, relative_coord, roi = crop_vol_seed(test_vol[:33,:257,:257], (5, 75, 190), cfg.MODEL.INPUT_SIZE)\n",
    "initial_vol = (initial_vol - cfg.DATASET.MEAN)/cfg.DATASET.STD\n",
    "distance = distance_from_seed(cfg, seed_coord=relative_coord)\n",
    "inputs = cast_and_cat(initial_vol, \n",
    "            torch.from_numpy(distance).logit(cfg.SOLVER.DIST_LOGITS_EPS), \n",
    "            device)"
   ]
  },
  {
   "cell_type": "code",
   "execution_count": 17,
   "metadata": {
    "collapsed": true
   },
   "outputs": [],
   "source": [
    "with torch.no_grad():\n",
    "    op = model(inputs).squeeze()"
   ]
  },
  {
   "cell_type": "code",
   "execution_count": 22,
   "metadata": {},
   "outputs": [
    {
     "data": {
      "text/plain": [
       "<matplotlib.image.AxesImage at 0x2b9a538d07c0>"
      ]
     },
     "execution_count": 22,
     "metadata": {},
     "output_type": "execute_result"
    },
    {
     "data": {
      "image/png": "[encoded data removed]",
      "text/plain": [
       "<Figure size 432x288 with 1 Axes>"
      ]
     },
     "metadata": {
      "needs_background": "light"
     },
     "output_type": "display_data"
    }
   ],
   "source": [
    "plt.imshow(op[0,5].sigmoid()>0.85)"
   ]
  },
  {
   "cell_type": "code",
   "execution_count": 19,
   "metadata": {},
   "outputs": [
    {
     "data": {
      "text/plain": [
       "<matplotlib.image.AxesImage at 0x2b9a537e2a30>"
      ]
     },
     "execution_count": 19,
     "metadata": {},
     "output_type": "execute_result"
    },
    {
     "data": {
      "image/png": "[encoded data removed]",
      "text/plain": [
       "<Figure size 432x288 with 1 Axes>"
      ]
     },
     "metadata": {
      "needs_background": "light"
     },
     "output_type": "display_data"
    }
   ],
   "source": [
    "plt.imshow(op[1,5].sigmoid())"
   ]
  },
  {
   "cell_type": "code",
   "execution_count": 25,
   "metadata": {},
   "outputs": [
    {
     "data": {
      "image/png": "[encoded data removed]",
      "text/plain": [
       "<Figure size 432x288 with 1 Axes>"
      ]
     },
     "metadata": {
      "needs_background": "light"
     },
     "output_type": "display_data"
    },
    {
     "data": {
      "image/png": "[encoded data removed]",
      "text/plain": [
       "<Figure size 432x288 with 1 Axes>"
      ]
     },
     "metadata": {
      "needs_background": "light"
     },
     "output_type": "display_data"
    },
    {
     "data": {
      "image/png": "[encoded data removed]",
      "text/plain": [
       "<Figure size 432x288 with 1 Axes>"
      ]
     },
     "metadata": {
      "needs_background": "light"
     },
     "output_type": "display_data"
    },
    {
     "data": {
      "image/png": "[encoded data removed]",
      "text/plain": [
       "<Figure size 432x288 with 1 Axes>"
      ]
     },
     "metadata": {
      "needs_background": "light"
     },
     "output_type": "display_data"
    },
    {
     "data": {
      "image/png": "[encoded data removed]",
      "text/plain": [
       "<Figure size 432x288 with 1 Axes>"
      ]
     },
     "metadata": {
      "needs_background": "light"
     },
     "output_type": "display_data"
    },
    {
     "data": {
      "image/png": "[encoded data removed]",
      "text/plain": [
       "<Figure size 432x288 with 1 Axes>"
      ]
     },
     "metadata": {
      "needs_background": "light"
     },
     "output_type": "display_data"
    },
    {
     "data": {
      "image/png": "[encoded data removed]",
      "text/plain": [
       "<Figure size 432x288 with 1 Axes>"
      ]
     },
     "metadata": {
      "needs_background": "light"
     },
     "output_type": "display_data"
    },
    {
     "data": {
      "image/png": "[encoded data removed]",
      "text/plain": [
       "<Figure size 432x288 with 1 Axes>"
      ]
     },
     "metadata": {
      "needs_background": "light"
     },
     "output_type": "display_data"
    },
    {
     "data": {
      "image/png": "[encoded data removed]",
      "text/plain": [
       "<Figure size 432x288 with 1 Axes>"
      ]
     },
     "metadata": {
      "needs_background": "light"
     },
     "output_type": "display_data"
    },
    {
     "data": {
      "image/png": "[encoded data removed]",
      "text/plain": [
       "<Figure size 432x288 with 1 Axes>"
      ]
     },
     "metadata": {
      "needs_background": "light"
     },
     "output_type": "display_data"
    },
    {
     "data": {
      "image/png": "[encoded data removed]",
      "text/plain": [
       "<Figure size 432x288 with 1 Axes>"
      ]
     },
     "metadata": {
      "needs_background": "light"
     },
     "output_type": "display_data"
    },
    {
     "data": {
      "image/png": "[encoded data removed]",
      "text/plain": [
       "<Figure size 432x288 with 1 Axes>"
      ]
     },
     "metadata": {
      "needs_background": "light"
     },
     "output_type": "display_data"
    },
    {
     "data": {
      "image/png": "[encoded data removed]",
      "text/plain": [
       "<Figure size 432x288 with 1 Axes>"
      ]
     },
     "metadata": {
      "needs_background": "light"
     },
     "output_type": "display_data"
    },
    {
     "data": {
      "image/png": "[encoded data removed]",
      "text/plain": [
       "<Figure size 432x288 with 1 Axes>"
      ]
     },
     "metadata": {
      "needs_background": "light"
     },
     "output_type": "display_data"
    },
    {
     "data": {
      "image/png": "[encoded data removed]",
      "text/plain": [
       "<Figure size 432x288 with 1 Axes>"
      ]
     },
     "metadata": {
      "needs_background": "light"
     },
     "output_type": "display_data"
    },
    {
     "data": {
      "image/png": "[encoded data removed]",
      "text/plain": [
       "<Figure size 432x288 with 1 Axes>"
      ]
     },
     "metadata": {
      "needs_background": "light"
     },
     "output_type": "display_data"
    }
   ],
   "source": [
    "for i in range(16):\n",
    "    plt.imshow(op[0,i].sigmoid()>0.5)\n",
    "    plt.show()"
   ]
  },
  {
   "cell_type": "code",
   "execution_count": 5,
   "metadata": {},
   "outputs": [
    {
     "data": {
      "text/plain": [
       "(96, (0, 0, 257))"
      ]
     },
     "execution_count": 5,
     "metadata": {},
     "output_type": "execute_result"
    }
   ],
   "source": [
    "len(all_steps), all_steps[1]"
   ]
  },
  {
   "cell_type": "markdown",
   "metadata": {},
   "source": [
    "## Eval"
   ]
  },
  {
   "cell_type": "code",
   "execution_count": 6,
   "metadata": {
    "collapsed": true
   },
   "outputs": [],
   "source": [
    "import pickle\n",
    "pickle.dump(masks_canvas.copy(), open('ffn_masks_canvas.pkl','wb'))"
   ]
  },
  {
   "cell_type": "code",
   "execution_count": 6,
   "metadata": {},
   "outputs": [
    {
     "name": "stdout",
     "output_type": "stream",
     "text": [
      "Id:1, IoU:0.11147415901304596\n",
      "Id:2, IoU:0.0981391019267255\n",
      "Id:3, IoU:0.006723559868035704\n",
      "Id:4, IoU:0.022472889438901696\n",
      "Id:5, IoU:0.06704200790777713\n",
      "Id:6, IoU:0.1417338404110421\n",
      "Id:7, IoU:0.2721556121241944\n",
      "Id:8, IoU:0.5162474621897686\n",
      "Id:9, IoU:0.17929928929128502\n",
      "Id:10, IoU:0.04442144642453787\n",
      "Average IoU of top 10 neurons: 0.14597093685953139\n"
     ]
    }
   ],
   "source": [
    "ious = []\n",
    "for i in range(10):\n",
    "    gt = (test_lab==top_ids[i])\n",
    "    inter = ((masks_canvas[i]==1) & gt).astype(np.uint8)\n",
    "    iou = inter.sum()/(masks_canvas[i].sum() + gt.astype(np.uint8).sum() - inter.sum())\n",
    "    print(f'Id:{i+1}, IoU:{iou}')\n",
    "    ious.append(iou)\n",
    "print(f'Average IoU of top 10 neurons: {sum(ious)/len(ious)}')"
   ]
  },
  {
   "cell_type": "code",
   "execution_count": 7,
   "metadata": {},
   "outputs": [
    {
     "name": "stdout",
     "output_type": "stream",
     "text": [
      "Id:1, IoU:0.6932517940405366\n",
      "Id:2, IoU:0.5906963407331006\n",
      "Id:3, IoU:0.004721807570514873\n",
      "Id:4, IoU:0.39477117552171576\n",
      "Id:5, IoU:0.6109995848069656\n",
      "Id:6, IoU:0.7042902535841177\n",
      "Id:7, IoU:0.6718000584871227\n",
      "Id:8, IoU:0.700244840515354\n",
      "Id:9, IoU:0.1356609991158913\n",
      "Id:10, IoU:0.5528986026594042\n",
      "Average IoU of top 10 neurons: 0.5059335457034723\n"
     ]
    }
   ],
   "source": [
    "ious = []\n",
    "for i in range(10):\n",
    "    gt = (test_lab==top_ids[i])\n",
    "    inter = ((masks_canvas[i]==1) & gt).astype(np.uint8)\n",
    "    iou = inter.sum()/(masks_canvas[i].sum() + gt.astype(np.uint8).sum() - inter.sum())\n",
    "    print(f'Id:{i+1}, IoU:{iou}')\n",
    "    ious.append(iou)\n",
    "print(f'Average IoU of top 10 neurons: {sum(ious)/len(ious)}')"
   ]
  },
  {
   "cell_type": "code",
   "execution_count": 6,
   "metadata": {},
   "outputs": [
    {
     "name": "stdout",
     "output_type": "stream",
     "text": [
      "Id:1, IoU:0.7512193989213791\n",
      "Id:2, IoU:0.5718930483501022\n",
      "Id:3, IoU:0.004721807570514873\n",
      "Id:4, IoU:0.2727260981439175\n",
      "Id:5, IoU:0.6344378031329543\n",
      "Id:6, IoU:0.6969516382809405\n",
      "Id:7, IoU:0.5685183603269229\n",
      "Id:8, IoU:0.6571816304168205\n",
      "Id:9, IoU:0.1356609991158913\n",
      "Id:10, IoU:0.5607762572146269\n",
      "Average IoU of top 10 neurons: 0.485408704147407\n"
     ]
    }
   ],
   "source": [
    "ious = []\n",
    "for i in range(10):\n",
    "    gt = (test_lab==top_ids[i])\n",
    "    inter = ((masks_canvas[i]==1) & gt).astype(np.uint8)\n",
    "    iou = inter.sum()/(masks_canvas[i].sum() + gt.astype(np.uint8).sum() - inter.sum())\n",
    "    print(f'Id:{i+1}, IoU:{iou}')\n",
    "    ious.append(iou)\n",
    "print(f'Average IoU of top 10 neurons: {sum(ious)/len(ious)}')"
   ]
  },
  {
   "cell_type": "code",
   "execution_count": 8,
   "metadata": {},
   "outputs": [
    {
     "name": "stdout",
     "output_type": "stream",
     "text": [
      "Id:1, IoU:0.7512193989213791\n",
      "Id:2, IoU:0.5756504043451219\n",
      "Id:3, IoU:0.004721807570514873\n",
      "Id:4, IoU:0.3426553839144851\n",
      "Id:5, IoU:0.5425572458131074\n",
      "Id:6, IoU:0.3557796845506548\n",
      "Id:7, IoU:0.5308276895780207\n",
      "Id:8, IoU:0.6571816304168205\n",
      "Id:9, IoU:0.1356609991158913\n",
      "Id:10, IoU:0.4611265864520508\n",
      "Average IoU of top 10 neurons: 0.4357380830678047\n"
     ]
    }
   ],
   "source": [
    "distance = distance_from_seed(self.cfg, seed_mask=seeds.pop(0))ious = []\n",
    "for i in range(10):\n",
    "    gt = (test_lab==top_ids[i])\n",
    "    inter = ((masks_canvas[i]==1) & gt).astype(np.uint8)\n",
    "    iou = inter.sum()/(masks_canvas[i].sum() + gt.astype(np.uint8).sum() - inter.sum())\n",
    "    print(f'Id:{i+1}, IoU:{iou}')\n",
    "    ious.append(iou)\n",
    "print(f'Average IoU of top 10 neurons: {sum(ious)/len(ious)}')"
   ]
  },
  {
   "cell_type": "code",
   "execution_count": 7,
   "metadata": {},
   "outputs": [
    {
     "name": "stdout",
     "output_type": "stream",
     "text": [
      "Id:1, IoU:0.6784079715338092\n",
      "Id:2, IoU:0.5906963407331006\n",
      "Id:3, IoU:0.004721807570514873\n",
      "Id:4, IoU:0.39477117552171576\n",
      "Id:5, IoU:0.6109995848069656\n",
      "Id:6, IoU:0.7042902535841177\n",
      "Id:7, IoU:0.6718000584871227\n",
      "Id:8, IoU:0.700244840515354\n",
      "Id:9, IoU:0.1356609991158913\n",
      "Id:10, IoU:0.5528986026594042\n",
      "Average IoU of top 10 neurons: 0.5044491634527996\n"
     ]
    }
   ],
   "source": [
    "ious = []\n",
    "for i in range(10):\n",
    "    gt = (test_lab==top_ids[i])\n",
    "    inter = ((masks_canvas[i]==1) & gt).astype(np.uint8)\n",
    "    iou = inter.sum()/(masks_canvas[i].sum() + gt.astype(np.uint8).sum() - inter.sum())\n",
    "    print(f'Id:{i+1}, IoU:{iou}')\n",
    "    ious.append(iou)\n",
    "print(f'Average IoU of top 10 neurons: {sum(ious)/len(ious)}')"
   ]
  },
  {
   "cell_type": "code",
   "execution_count": 6,
   "metadata": {},
   "outputs": [
    {
     "name": "stdout",
     "output_type": "stream",
     "text": [
      "Id:1, IoU:0.628734988895657\n",
      "Id:2, IoU:0.5699465674450195\n",
      "Id:3, IoU:0.004526228949494239\n",
      "Id:4, IoU:0.01260356130190134\n",
      "Id:5, IoU:0.4435186898073529\n",
      "Id:6, IoU:0.4355806859669155\n",
      "Id:7, IoU:0.44667748883812813\n",
      "Id:8, IoU:0.5526992408184175\n",
      "Id:9, IoU:0.2928465618881432\n",
      "Id:10, IoU:0.5783618864839289\n",
      "Average IoU of top 10 neurons: 0.39654959003949586\n"
     ]
    }
   ],
   "source": [
    "ious = []\n",
    "for i in range(10):\n",
    "    gt = (test_lab==top_ids[i])\n",
    "    inter = ((masks_canvas[i]==1) & gt).astype(np.uint8)\n",
    "    iou = inter.sum()/(masks_canvas[i].sum() + gt.astype(np.uint8).sum() - inter.sum())\n",
    "    print(f'Id:{i+1}, IoU:{iou}')\n",
    "    ious.append(iou)\n",
    "print(f'Average IoU of top 10 neurons: {sum(ious)/len(ious)}')"
   ]
  },
  {
   "cell_type": "code",
   "execution_count": 20,
   "metadata": {},
   "outputs": [
    {
     "name": "stdout",
     "output_type": "stream",
     "text": [
      "Id:1, IoU:0.43795350193977356\n",
      "Id:2, IoU:0.3732629120349884\n",
      "Id:3, IoU:0.28296366333961487\n",
      "Id:4, IoU:0.46910881996154785\n",
      "Id:5, IoU:0.6370614767074585\n",
      "Id:6, IoU:0.47368937730789185\n",
      "Id:7, IoU:0.35757195949554443\n",
      "Id:8, IoU:0.4949871599674225\n",
      "Id:9, IoU:0.48708128929138184\n",
      "Id:10, IoU:0.4435967803001404\n",
      "Average IoU of top 10 neurons: 0.445727676153183\n"
     ]
    }
   ],
   "source": [
    "ious = []\n",
    "for i in range(10):\n",
    "    gt = torch.as_tensor((test_lab==top_ids[i]))\n",
    "    inter = ((masks_canvas[i]==1) & gt).int()\n",
    "    iou = inter.sum()/(masks_canvas[i].sum() + gt.int().sum() - inter.sum())\n",
    "    print(f'Id:{i+1}, IoU:{iou}')\n",
    "    ious.append(iou)\n",
    "print(f'Average IoU of top 10 neurons: {sum(ious)/len(ious)}')"
   ]
  },
  {
   "cell_type": "code",
   "execution_count": 17,
   "metadata": {
    "collapsed": true
   },
   "outputs": [],
   "source": [
    "import torch \n",
    "import pickle\n",
    "# masks_canvas = pickle.load(open('ffn_masks_canvas.pkl','rb'))\n",
    "masks_canvas = pickle.load(open('masks_canvas.pkl','rb')).numpy()"
   ]
  },
  {
   "cell_type": "code",
   "execution_count": 18,
   "metadata": {
    "collapsed": true
   },
   "outputs": [],
   "source": [
    "from skimage.metrics import adapted_rand_error\n",
    "\n",
    "masks_canvas_reduced = np.zeros(masks_canvas.shape[1:])\n",
    "for i in range(1,11):\n",
    "    masks_canvas_reduced += i*masks_canvas[i-1]\n",
    "\n",
    "test_lab_reduced = np.zeros(masks_canvas.shape[1:])\n",
    "for i,idx in enumerate(top_ids):\n",
    "    test_lab_reduced += i * (test_lab==idx).astype(np.uint16)"
   ]
  },
  {
   "cell_type": "code",
   "execution_count": 19,
   "metadata": {
    "collapsed": true
   },
   "outputs": [],
   "source": [
    "are = adapted_rand_error(test_lab_reduced.astype(np.uint16), masks_canvas_reduced.astype(np.uint16))"
   ]
  },
  {
   "cell_type": "code",
   "execution_count": 12,
   "metadata": {},
   "outputs": [
    {
     "data": {
      "text/plain": [
       "<matplotlib.image.AxesImage at 0x2ac9c8e413d0>"
      ]
     },
     "execution_count": 12,
     "metadata": {},
     "output_type": "execute_result"
    },
    {
     "data": {
      "image/png": "[encoded data removed]",
      "text/plain": [
       "<Figure size 432x288 with 1 Axes>"
      ]
     },
     "metadata": {
      "needs_background": "light"
     },
     "output_type": "display_data"
    }
   ],
   "source": [
    "plt.imshow(test_lab_reduced[0])"
   ]
  },
  {
   "cell_type": "code",
   "execution_count": 13,
   "metadata": {},
   "outputs": [
    {
     "data": {
      "text/plain": [
       "<matplotlib.image.AxesImage at 0x2ac9c8f0e610>"
      ]
     },
     "execution_count": 13,
     "metadata": {},
     "output_type": "execute_result"
    },
    {
     "data": {
      "image/png": "[encoded data removed]",
      "text/plain": [
       "<Figure size 432x288 with 1 Axes>"
      ]
     },
     "metadata": {
      "needs_background": "light"
     },
     "output_type": "display_data"
    }
   ],
   "source": [
    "# FFN\n",
    "plt.imshow(masks_canvas_reduced[0])"
   ]
  },
  {
   "cell_type": "code",
   "execution_count": 21,
   "metadata": {},
   "outputs": [
    {
     "data": {
      "text/plain": [
       "<matplotlib.image.AxesImage at 0x2ac9c8fd7ca0>"
      ]
     },
     "execution_count": 21,
     "metadata": {},
     "output_type": "execute_result"
    },
    {
     "data": {
      "image/png": "[encoded data removed]",
      "text/plain": [
       "<Figure size 432x288 with 1 Axes>"
      ]
     },
     "metadata": {
      "needs_background": "light"
     },
     "output_type": "display_data"
    }
   ],
   "source": [
    "# VDS\n",
    "plt.imshow(masks_canvas_reduced[0])"
   ]
  },
  {
   "cell_type": "code",
   "execution_count": 11,
   "metadata": {},
   "outputs": [
    {
     "data": {
      "text/plain": [
       "(0.4904840758485395, 0.5989856004506321, 0.4433006937034976)"
      ]
     },
     "execution_count": 11,
     "metadata": {},
     "output_type": "execute_result"
    }
   ],
   "source": [
    "# FFN\n",
    "are"
   ]
  },
  {
   "cell_type": "code",
   "execution_count": 20,
   "metadata": {},
   "outputs": [
    {
     "data": {
      "text/plain": [
       "(0.5537891034898278, 0.46508722443959033, 0.42880705862408375)"
      ]
     },
     "execution_count": 20,
     "metadata": {},
     "output_type": "execute_result"
    }
   ],
   "source": [
    "# VDS\n",
    "are"
   ]
  },
  {
   "cell_type": "code",
   "execution_count": 14,
   "metadata": {},
   "outputs": [
    {
     "data": {
      "text/plain": [
       "(0.0, 1.0, 1.0)"
      ]
     },
     "execution_count": 14,
     "metadata": {},
     "output_type": "execute_result"
    }
   ],
   "source": [
    "adapted_rand_error(test_lab_reduced.astype(np.uint16), test_lab_reduced.astype(np.uint16))"
   ]
  },
  {
   "cell_type": "code",
   "execution_count": null,
   "metadata": {},
   "outputs": [
    {
     "data": {
      "application/vnd.jupyter.widget-view+json": {
       "model_id": "5fd3ec622a5d48878a74877aa78fe673",
       "version_major": 2,
       "version_minor": 0
      },
      "text/plain": [
       "  0%|          | 0/104857600 [00:00<?, ?it/s]"
      ]
     },
     "metadata": {},
     "output_type": "display_data"
    }
   ],
   "source": [
    "# Too slow; use sparse\n",
    "a,b,c,d = 0,0,0,0\n",
    "test_lab_f = test_lab.reshape(-1)\n",
    "masks_canvas_f = masks_canvas_reduced.reshape(-1)\n",
    "for i in tqdm(range(test_lab_f.shape[0])):\n",
    "    for j in range(test_lab_f.shape[0]):\n",
    "        if test_lab_f[i] == test_lab_f[j] and masks_canvas_f[i] == masks_canvas_f[j]:\n",
    "            a += 1 #tp\n",
    "        if test_lab_f[i] != test_lab_f[j] and masks_canvas_f[i] != masks_canvas_f[j]:\n",
    "            b += 1 #tn\n",
    "        if test_lab_f[i] != test_lab_f[j] and masks_canvas_f[i] == masks_canvas_f[j]:\n",
    "            c += 1 #fp\n",
    "        if test_lab_f[i] == test_lab_f[j] and masks_canvas_f[i] != masks_canvas_f[j]:\n",
    "            d += 1 #fn\n",
    "pr = a/(a + c)\n",
    "re = a/(a + d)\n",
    "f1 = (2*pr*re)/(pr + re)\n",
    "\n",
    "print(1-f1)"
   ]
  },
  {
   "cell_type": "code",
   "execution_count": 8,
   "metadata": {},
   "outputs": [
    {
     "name": "stdout",
     "output_type": "stream",
     "text": [
      "Id:1, rand:0.18115923871397943\n",
      "Id:2, rand:0.2573109956852385\n",
      "Id:3, rand:0.9906007662321324\n",
      "Id:4, rand:0.4339269660142623\n",
      "Id:5, rand:0.24146524857090235\n",
      "Id:6, rand:0.1735090286375841\n",
      "Id:7, rand:0.19631530687340593\n",
      "Id:8, rand:0.17630117283213664\n",
      "Id:9, rand:0.761088917869852\n",
      "Id:10, rand:0.2879140959847063\n",
      "Average Rand of top 10 neurons: 0.36995917374142\n"
     ]
    }
   ],
   "source": [
    "rands = []\n",
    "for i in range(10):\n",
    "    gt = (test_lab==top_ids[i]).astype(np.uint8)\n",
    "    a = ((masks_canvas[i]==1) & (gt==1)).sum() #tp\n",
    "    b = ((masks_canvas[i]==0) & (gt==0)).sum() #tn\n",
    "    c = ((masks_canvas[i]==1) & (gt==0)).sum() #fp\n",
    "    d = ((masks_canvas[i]==0) & (gt==1)).sum() #fn\n",
    "    pr = a/(a + c)\n",
    "    re = a/(a + d)\n",
    "    f1 = (2*pr*re)/(pr + re)\n",
    "    # rand = (a + b)/(a + b + c + d)\n",
    "    rand = 1 - f1\n",
    "    print(f'Id:{i+1}, rand:{rand}')\n",
    "    rands.append(rand)\n",
    "print(f'Average Rand of top 10 neurons: {sum(rands)/len(rands)}')"
   ]
  },
  {
   "cell_type": "code",
   "execution_count": 7,
   "metadata": {},
   "outputs": [
    {
     "name": "stdout",
     "output_type": "stream",
     "text": [
      "Id:1, rand:0.14206135520874852\n",
      "Id:2, rand:0.27235119596670354\n",
      "Id:3, rand:0.9906007662321324\n",
      "Id:4, rand:0.5714300216807873\n",
      "Id:5, rand:0.22366234809689411\n",
      "Id:6, rand:0.1785839707406488\n",
      "Id:7, rand:0.2750886764138001\n",
      "Id:8, rand:0.20686831382324244\n",
      "Id:9, rand:0.761088917869852\n",
      "Id:10, rand:0.2814136496215127\n",
      "Average Rand of top 10 neurons: 0.39031492156543224\n"
     ]
    }
   ],
   "source": [
    "rands = []\n",
    "for i in range(10):\n",
    "    gt = (test_lab==top_ids[i]).astype(np.uint8)\n",
    "    a = ((masks_canvas[i]==1) & (gt==1)).sum() #tp\n",
    "    b = ((masks_canvas[i]==0) & (gt==0)).sum() #tn\n",
    "    c = ((masks_canvas[i]==1) & (gt==0)).sum() #fp\n",
    "    d = ((masks_canvas[i]==0) & (gt==1)).sum() #fn\n",
    "    pr = a/(a + c)\n",
    "    re = a/(a + d)\n",
    "    f1 = (2*pr*re)/(pr + re)\n",
    "    # rand = (a + b)/(a + b + c + d)\n",
    "    rand = 1 - f1\n",
    "    print(f'Id:{i+1}, rand:{rand}')\n",
    "    rands.append(rand)\n",
    "print(f'Average Rand of top 10 neurons: {sum(rands)/len(rands)}')"
   ]
  },
  {
   "cell_type": "code",
   "execution_count": 5,
   "metadata": {},
   "outputs": [
    {
     "name": "stdout",
     "output_type": "stream",
     "text": [
      "Id:1, rand:0.19160539863994142\n",
      "Id:2, rand:0.2573109956852385\n",
      "Id:3, rand:0.9906007662321324\n",
      "Id:4, rand:0.4339269660142623\n",
      "Id:5, rand:0.24146524857090235\n",
      "Id:6, rand:0.1735090286375841\n",
      "Id:7, rand:0.19631530687340593\n",
      "Id:8, rand:0.17630117283213664\n",
      "Id:9, rand:0.761088917869852\n",
      "Id:10, rand:0.2879140959847063\n",
      "Average Rand of top 10 neurons: 0.3710037897340162\n"
     ]
    }
   ],
   "source": [
    "rands = []\n",
    "for i in range(10):\n",
    "    gt = (test_lab==top_ids[i]).astype(np.uint8)\n",
    "    a = ((masks_canvas[i]==1) & (gt==1)).sum() #tp\n",
    "    b = ((masks_canvas[i]==0) & (gt==0)).sum() #tn\n",
    "    c = ((masks_canvas[i]==1) & (gt==0)).sum() #fp\n",
    "    d = ((masks_canvas[i]==0) & (gt==1)).sum() #fn\n",
    "    pr = a/(a + c)\n",
    "    re = a/(a + d)\n",
    "    f1 = (2*pr*re)/(pr + re)\n",
    "    # rand = (a + b)/(a + b + c + d)\n",
    "    rand = 1 - f1\n",
    "    print(f'Id:{i+1}, rand:{rand}')\n",
    "    rands.append(rand)\n",
    "print(f'Average Rand of top 10 neurons: {sum(rands)/len(rands)}')"
   ]
  },
  {
   "cell_type": "code",
   "execution_count": 9,
   "metadata": {},
   "outputs": [
    {
     "name": "stdout",
     "output_type": "stream",
     "text": [
      "Id:1, rand:0.14206135520874852\n",
      "Id:2, rand:0.2693170988213264\n",
      "Id:3, rand:0.9906007662321324\n",
      "Id:4, rand:0.4895855064231298\n",
      "Id:5, rand:0.2965483163937732\n",
      "Id:6, rand:0.4751659305640493\n",
      "Id:7, rand:0.3064827698219311\n",
      "Id:8, rand:0.20686831382324244\n",
      "Id:9, rand:0.761088917869852\n",
      "Id:10, rand:0.3688067950747902\n",
      "Average Rand of top 10 neurons: 0.43065257702329757\n"
     ]
    }
   ],
   "source": [
    "rands = []\n",
    "for i in range(10):\n",
    "    gt = (test_lab==top_ids[i]).astype(np.uint8)\n",
    "    a = ((masks_canvas[i]==1) & (gt==1)).sum() #tp\n",
    "    b = ((masks_canvas[i]==0) & (gt==0)).sum() #tn\n",
    "    c = ((masks_canvas[i]==1) & (gt==0)).sum() #fp\n",
    "    d = ((masks_canvas[i]==0) & (gt==1)).sum() #fn\n",
    "    pr = a/(a + c)\n",
    "    re = a/(a + d)\n",
    "    f1 = (2*pr*re)/(pr + re)\n",
    "    # rand = (a + b)/(a + b + c + d)\n",
    "    rand = 1 - f1\n",
    "    print(f'Id:{i+1}, rand:{rand}')\n",
    "    rands.append(rand)\n",
    "print(f'Average Rand of top 10 neurons: {sum(rands)/len(rands)}')"
   ]
  },
  {
   "cell_type": "code",
   "execution_count": 6,
   "metadata": {},
   "outputs": [
    {
     "name": "stdout",
     "output_type": "stream",
     "text": [
      "Id:1, rand:0.39086562395095825\n",
      "Id:2, rand:0.45638537406921387\n",
      "Id:3, rand:0.5588905811309814\n",
      "Id:4, rand:0.3613695502281189\n",
      "Id:5, rand:0.2217012643814087\n",
      "Id:6, rand:0.35713815689086914\n",
      "Id:7, rand:0.4732183814048767\n",
      "Id:8, rand:0.33780407905578613\n",
      "Id:9, rand:0.34491634368896484\n",
      "Id:10, rand:0.38542842864990234\n",
      "Average IoU of top 10 neurons: 0.38877180218696594\n"
     ]
    }
   ],
   "source": [
    "rands = []\n",
    "for i in range(10):\n",
    "    gt = torch.as_tensor((test_lab==top_ids[i])).int()\n",
    "    a = ((masks_canvas[i]==1) & (gt==1)).sum() #tp\n",
    "    b = ((masks_canvas[i]==0) & (gt==0)).sum() #tn\n",
    "    c = ((masks_canvas[i]==1) & (gt==0)).sum() #fp\n",
    "    d = ((masks_canvas[i]==0) & (gt==1)).sum() #fn\n",
    "    pr = a/(a + c)\n",
    "    re = a/(a + d)\n",
    "    f1 = (2*pr*re)/(pr + re)\n",
    "    # rand = (a + b)/(a + b + c + d)\n",
    "    rand = 1 - f1\n",
    "    print(f'Id:{i+1}, rand:{rand}')\n",
    "    rands.append(rand)\n",
    "print(f'Average Rand of top 10 neurons: {sum(rands)/len(rands)}')"
   ]
  },
  {
   "cell_type": "code",
   "execution_count": 21,
   "metadata": {},
   "outputs": [
    {
     "name": "stdout",
     "output_type": "stream",
     "text": [
      "Affinity IoU:0.9057097434997559\n"
     ]
    }
   ],
   "source": [
    "aff_gt = h5.File('/n/home11/abanerjee/pytorch_connectomics/datasets/SNEMI3D/result_xy.h5', 'r')['vol0'][...]/255\n",
    "aff_gt = (aff_gt>0.5).astype(np.float32)\n",
    "inter = ((affinity_canvas==1) & (aff_gt==1)).int()\n",
    "iou = inter.sum()/(affinity_canvas.sum() + aff_gt.sum() - inter.sum())\n",
    "print(f'Affinity IoU:{iou}')"
   ]
  },
  {
   "cell_type": "code",
   "execution_count": 10,
   "metadata": {},
   "outputs": [
    {
     "data": {
      "text/plain": [
       "<matplotlib.image.AxesImage at 0x2b7edb4420d0>"
      ]
     },
     "execution_count": 10,
     "metadata": {},
     "output_type": "execute_result"
    },
    {
     "data": {
      "image/png": "[encoded data removed]",
      "text/plain": [
       "<Figure size 432x288 with 1 Axes>"
      ]
     },
     "metadata": {
      "needs_background": "light"
     },
     "output_type": "display_data"
    }
   ],
   "source": [
    "plt.imshow(affinity_canvas[:,0,:257,:257].permute(1,2,0))"
   ]
  },
  {
   "cell_type": "code",
   "execution_count": 22,
   "metadata": {},
   "outputs": [
    {
     "data": {
      "text/plain": [
       "<matplotlib.image.AxesImage at 0x2b7edbd5d0d0>"
      ]
     },
     "execution_count": 22,
     "metadata": {},
     "output_type": "execute_result"
    },
    {
     "data": {
      "image/png": "[encoded data removed]",
      "text/plain": [
       "<Figure size 432x288 with 1 Axes>"
      ]
     },
     "metadata": {
      "needs_background": "light"
     },
     "output_type": "display_data"
    }
   ],
   "source": [
    "plt.imshow(aff_gt[:,0,:257,:257].transpose(1,2,0))"
   ]
  },
  {
   "cell_type": "markdown",
   "metadata": {},
   "source": [
    "## Viz"
   ]
  },
  {
   "cell_type": "code",
   "execution_count": 25,
   "metadata": {},
   "outputs": [
    {
     "data": {
      "text/plain": [
       "<matplotlib.image.AxesImage at 0x2b7edbe64640>"
      ]
     },
     "execution_count": 25,
     "metadata": {},
     "output_type": "execute_result"
    },
    {
     "data": {
      "image/png": "[encoded data removed]",
      "text/plain": [
       "<Figure size 432x288 with 1 Axes>"
      ]
     },
     "metadata": {
      "needs_background": "light"
     },
     "output_type": "display_data"
    }
   ],
   "source": [
    "import torchvision.utils as vutils\n",
    "\n",
    "plt.imshow(masks_canvas[1,1,:257,:257])"
   ]
  },
  {
   "cell_type": "code",
   "execution_count": 36,
   "metadata": {
    "collapsed": true
   },
   "outputs": [],
   "source": [
    "grid = vutils.make_grid(torch.cat([masks_canvas[1, :16, :257,:257].unsqueeze(1), torch.as_tensor((test_lab==top_ids[1])).int()[:16, :257, :257].unsqueeze(1)]))"
   ]
  },
  {
   "cell_type": "code",
   "execution_count": 35,
   "metadata": {},
   "outputs": [
    {
     "data": {
      "text/plain": [
       "(torch.Size([16, 1, 257, 257]),\n",
       " torch.Size([16, 1, 257, 257]),\n",
       " torch.Size([32, 1, 257, 257]))"
      ]
     },
     "execution_count": 35,
     "metadata": {},
     "output_type": "execute_result"
    }
   ],
   "source": [
    "masks_canvas[1, :16, :257,:257].unsqueeze(1).shape, torch.as_tensor((test_lab==top_ids[1])).int()[:16, :257, :257].unsqueeze(1).shape, \\\n",
    "torch.cat([masks_canvas[1, :16, :257,:257].unsqueeze(1), torch.as_tensor((test_lab==top_ids[1])).int()[:16, :257, :257].unsqueeze(1)]).shape"
   ]
  },
  {
   "cell_type": "code",
   "execution_count": 37,
   "metadata": {},
   "outputs": [
    {
     "data": {
      "text/plain": [
       "torch.Size([3, 1038, 2074])"
      ]
     },
     "execution_count": 37,
     "metadata": {},
     "output_type": "execute_result"
    }
   ],
   "source": [
    "grid.shape"
   ]
  },
  {
   "cell_type": "code",
   "execution_count": 40,
   "metadata": {},
   "outputs": [
    {
     "data": {
      "text/plain": [
       "<matplotlib.image.AxesImage at 0x2b7edd850c40>"
      ]
     },
     "execution_count": 40,
     "metadata": {},
     "output_type": "execute_result"
    },
    {
     "data": {
      "image/png": "[encoded data removed]",
      "text/plain": [
       "<Figure size 1080x1080 with 1 Axes>"
      ]
     },
     "metadata": {
      "needs_background": "light"
     },
     "output_type": "display_data"
    }
   ],
   "source": [
    "plt.figure(figsize=(15,15))\n",
    "plt.imshow(grid.permute(1,2,0))"
   ]
  }
 ],
 "metadata": {
  "kernelspec": {
   "display_name": "snemi",
   "language": "python",
   "name": "snemi"
  },
  "language_info": {
   "codemirror_mode": {
    "name": "ipython",
    "version": 3
   },
   "file_extension": ".py",
   "mimetype": "text/x-python",
   "name": "python",
   "nbconvert_exporter": "python",
   "pygments_lexer": "ipython3",
   "version": "3.8.5"
  }
 },
 "nbformat": 4,
 "nbformat_minor": 2
}
