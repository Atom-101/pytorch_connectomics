{
 "cells": [
  {
   "cell_type": "code",
   "execution_count": 8,
   "metadata": {},
   "outputs": [
    {
     "name": "stdout",
     "output_type": "stream",
     "text": [
      "The autoreload extension is already loaded. To reload it, use:\n",
      "  %reload_ext autoreload\n"
     ]
    }
   ],
   "source": [
    "%load_ext autoreload\n",
    "%autoreload 2"
   ]
  },
  {
   "cell_type": "code",
   "execution_count": 9,
   "metadata": {
    "collapsed": true
   },
   "outputs": [],
   "source": [
    "from connectomics.model import build_model\n",
    "from model import build_madi_model\n",
    "from connectomics.config.defaults import get_cfg_defaults\n",
    "\n",
    "import numpy as np\n",
    "import matplotlib.pyplot as plt"
   ]
  },
  {
   "cell_type": "code",
   "execution_count": 10,
   "metadata": {},
   "outputs": [],
   "source": [
    "cfg = get_cfg_defaults()\n",
    "cfg.merge_from_file('config.yaml')"
   ]
  },
  {
   "cell_type": "code",
   "execution_count": null,
   "metadata": {
    "collapsed": true
   },
   "outputs": [],
   "source": [
    "import torch\n",
    "model = build_madi_model(cfg, torch.device('cpu'), None)"
   ]
  },
  {
   "cell_type": "code",
   "execution_count": 5,
   "metadata": {
    "scrolled": true
   },
   "outputs": [
    {
     "data": {
      "text/plain": [
       "Unet3D(\n",
       "  (backbone): IntermediateLayerGetter(\n",
       "    (conv1): Conv3d(1, 32, kernel_size=(7, 7, 7), stride=(2, 2, 2), padding=(3, 3, 3), bias=False, padding_mode=replicate)\n",
       "    (bn1): GroupNorm(8, 32, eps=1e-05, affine=True)\n",
       "    (relu): ELU(alpha=1.0, inplace=True)\n",
       "    (layer0): Sequential(\n",
       "      (0): InvertedResidual(\n",
       "        (layers1): Sequential(\n",
       "          (0): Conv3d(32, 32, kernel_size=(1, 1, 1), stride=(1, 1, 1), bias=False)\n",
       "          (1): GroupNorm(8, 32, eps=1e-05, affine=True)\n",
       "          (2): ELU(alpha=1.0, inplace=True)\n",
       "          (3): Conv3d(32, 32, kernel_size=(1, 3, 3), stride=(1, 2, 2), padding=(0, 1, 1), groups=32, bias=False, padding_mode=replicate)\n",
       "          (4): GroupNorm(8, 32, eps=1e-05, affine=True)\n",
       "          (5): ELU(alpha=1.0, inplace=True)\n",
       "        )\n",
       "        (layers2): Sequential(\n",
       "          (0): Conv3d(32, 32, kernel_size=(1, 1, 1), stride=(1, 1, 1), bias=False)\n",
       "          (1): GroupNorm(8, 32, eps=1e-05, affine=True)\n",
       "        )\n",
       "        (attention): SELayer3d(\n",
       "          (avg_pool): AdaptiveAvgPool3d(output_size=1)\n",
       "          (fc): Sequential(\n",
       "            (0): Linear(in_features=32, out_features=4, bias=False)\n",
       "            (1): ReLU(inplace=True)\n",
       "            (2): Linear(in_features=4, out_features=32, bias=False)\n",
       "            (3): Sigmoid()\n",
       "          )\n",
       "        )\n",
       "        (projector): Sequential(\n",
       "          (0): AvgPool3d(kernel_size=(1, 2, 2), stride=(1, 2, 2), padding=0)\n",
       "          (1): Sequential(\n",
       "            (0): Conv3d(32, 32, kernel_size=(1, 1, 1), stride=(1, 1, 1), bias=False, padding_mode=replicate)\n",
       "            (1): GroupNorm(8, 32, eps=1e-05, affine=True)\n",
       "            (2): Identity()\n",
       "          )\n",
       "        )\n",
       "      )\n",
       "      (1): InvertedResidual(\n",
       "        (layers1): Sequential(\n",
       "          (0): Conv3d(32, 32, kernel_size=(1, 1, 1), stride=(1, 1, 1), bias=False)\n",
       "          (1): GroupNorm(8, 32, eps=1e-05, affine=True)\n",
       "          (2): ELU(alpha=1.0, inplace=True)\n",
       "          (3): Conv3d(32, 32, kernel_size=(1, 3, 3), stride=(1, 1, 1), padding=(0, 1, 1), groups=32, bias=False, padding_mode=replicate)\n",
       "          (4): GroupNorm(8, 32, eps=1e-05, affine=True)\n",
       "          (5): ELU(alpha=1.0, inplace=True)\n",
       "        )\n",
       "        (layers2): Sequential(\n",
       "          (0): Conv3d(32, 32, kernel_size=(1, 1, 1), stride=(1, 1, 1), bias=False)\n",
       "          (1): GroupNorm(8, 32, eps=1e-05, affine=True)\n",
       "        )\n",
       "        (attention): SELayer3d(\n",
       "          (avg_pool): AdaptiveAvgPool3d(output_size=1)\n",
       "          (fc): Sequential(\n",
       "            (0): Linear(in_features=32, out_features=4, bias=False)\n",
       "            (1): ReLU(inplace=True)\n",
       "            (2): Linear(in_features=4, out_features=32, bias=False)\n",
       "            (3): Sigmoid()\n",
       "          )\n",
       "        )\n",
       "        (projector): Identity()\n",
       "      )\n",
       "    )\n",
       "    (layer1): Sequential(\n",
       "      (0): InvertedResidual(\n",
       "        (layers1): Sequential(\n",
       "          (0): Conv3d(32, 32, kernel_size=(1, 1, 1), stride=(1, 1, 1), bias=False)\n",
       "          (1): GroupNorm(8, 32, eps=1e-05, affine=True)\n",
       "          (2): ELU(alpha=1.0, inplace=True)\n",
       "          (3): Conv3d(32, 32, kernel_size=(1, 3, 3), stride=(1, 2, 2), padding=(0, 1, 1), groups=32, bias=False, padding_mode=replicate)\n",
       "          (4): GroupNorm(8, 32, eps=1e-05, affine=True)\n",
       "          (5): ELU(alpha=1.0, inplace=True)\n",
       "        )\n",
       "        (layers2): Sequential(\n",
       "          (0): Conv3d(32, 64, kernel_size=(1, 1, 1), stride=(1, 1, 1), bias=False)\n",
       "          (1): GroupNorm(8, 64, eps=1e-05, affine=True)\n",
       "        )\n",
       "        (attention): SELayer3d(\n",
       "          (avg_pool): AdaptiveAvgPool3d(output_size=1)\n",
       "          (fc): Sequential(\n",
       "            (0): Linear(in_features=32, out_features=4, bias=False)\n",
       "            (1): ReLU(inplace=True)\n",
       "            (2): Linear(in_features=4, out_features=32, bias=False)\n",
       "            (3): Sigmoid()\n",
       "          )\n",
       "        )\n",
       "        (projector): Sequential(\n",
       "          (0): AvgPool3d(kernel_size=(1, 2, 2), stride=(1, 2, 2), padding=0)\n",
       "          (1): Sequential(\n",
       "            (0): Conv3d(32, 64, kernel_size=(1, 1, 1), stride=(1, 1, 1), bias=False, padding_mode=replicate)\n",
       "            (1): GroupNorm(8, 64, eps=1e-05, affine=True)\n",
       "            (2): Identity()\n",
       "          )\n",
       "        )\n",
       "      )\n",
       "      (1): InvertedResidual(\n",
       "        (layers1): Sequential(\n",
       "          (0): Conv3d(64, 64, kernel_size=(1, 1, 1), stride=(1, 1, 1), bias=False)\n",
       "          (1): GroupNorm(8, 64, eps=1e-05, affine=True)\n",
       "          (2): ELU(alpha=1.0, inplace=True)\n",
       "          (3): Conv3d(64, 64, kernel_size=(1, 3, 3), stride=(1, 1, 1), padding=(0, 1, 1), groups=64, bias=False, padding_mode=replicate)\n",
       "          (4): GroupNorm(8, 64, eps=1e-05, affine=True)\n",
       "          (5): ELU(alpha=1.0, inplace=True)\n",
       "        )\n",
       "        (layers2): Sequential(\n",
       "          (0): Conv3d(64, 64, kernel_size=(1, 1, 1), stride=(1, 1, 1), bias=False)\n",
       "          (1): GroupNorm(8, 64, eps=1e-05, affine=True)\n",
       "        )\n",
       "        (attention): SELayer3d(\n",
       "          (avg_pool): AdaptiveAvgPool3d(output_size=1)\n",
       "          (fc): Sequential(\n",
       "            (0): Linear(in_features=64, out_features=8, bias=False)\n",
       "            (1): ReLU(inplace=True)\n",
       "            (2): Linear(in_features=8, out_features=64, bias=False)\n",
       "            (3): Sigmoid()\n",
       "          )\n",
       "        )\n",
       "        (projector): Identity()\n",
       "      )\n",
       "    )\n",
       "    (layer2): Sequential(\n",
       "      (0): InvertedResidual(\n",
       "        (layers1): Sequential(\n",
       "          (0): Conv3d(64, 64, kernel_size=(1, 1, 1), stride=(1, 1, 1), bias=False)\n",
       "          (1): GroupNorm(8, 64, eps=1e-05, affine=True)\n",
       "          (2): ELU(alpha=1.0, inplace=True)\n",
       "          (3): Conv3d(64, 64, kernel_size=(5, 5, 5), stride=(1, 1, 1), padding=(2, 2, 2), groups=64, bias=False, padding_mode=replicate)\n",
       "          (4): GroupNorm(8, 64, eps=1e-05, affine=True)\n",
       "          (5): ELU(alpha=1.0, inplace=True)\n",
       "        )\n",
       "        (layers2): Sequential(\n",
       "          (0): Conv3d(64, 96, kernel_size=(1, 1, 1), stride=(1, 1, 1), bias=False)\n",
       "          (1): GroupNorm(8, 96, eps=1e-05, affine=True)\n",
       "        )\n",
       "        (attention): SELayer3d(\n",
       "          (avg_pool): AdaptiveAvgPool3d(output_size=1)\n",
       "          (fc): Sequential(\n",
       "            (0): Linear(in_features=64, out_features=8, bias=False)\n",
       "            (1): ReLU(inplace=True)\n",
       "            (2): Linear(in_features=8, out_features=64, bias=False)\n",
       "            (3): Sigmoid()\n",
       "          )\n",
       "        )\n",
       "        (projector): Sequential(\n",
       "          (0): Conv3d(64, 96, kernel_size=(1, 1, 1), stride=(1, 1, 1), bias=False, padding_mode=replicate)\n",
       "          (1): GroupNorm(8, 96, eps=1e-05, affine=True)\n",
       "          (2): Identity()\n",
       "        )\n",
       "      )\n",
       "      (1): InvertedResidual(\n",
       "        (layers1): Sequential(\n",
       "          (0): Conv3d(96, 96, kernel_size=(1, 1, 1), stride=(1, 1, 1), bias=False)\n",
       "          (1): GroupNorm(8, 96, eps=1e-05, affine=True)\n",
       "          (2): ELU(alpha=1.0, inplace=True)\n",
       "          (3): Conv3d(96, 96, kernel_size=(5, 5, 5), stride=(1, 1, 1), padding=(2, 2, 2), groups=96, bias=False, padding_mode=replicate)\n",
       "          (4): GroupNorm(8, 96, eps=1e-05, affine=True)\n",
       "          (5): ELU(alpha=1.0, inplace=True)\n",
       "        )\n",
       "        (layers2): Sequential(\n",
       "          (0): Conv3d(96, 96, kernel_size=(1, 1, 1), stride=(1, 1, 1), bias=False)\n",
       "          (1): GroupNorm(8, 96, eps=1e-05, affine=True)\n",
       "        )\n",
       "        (attention): SELayer3d(\n",
       "          (avg_pool): AdaptiveAvgPool3d(output_size=1)\n",
       "          (fc): Sequential(\n",
       "            (0): Linear(in_features=96, out_features=12, bias=False)\n",
       "            (1): ReLU(inplace=True)\n",
       "            (2): Linear(in_features=12, out_features=96, bias=False)\n",
       "            (3): Sigmoid()\n",
       "          )\n",
       "        )\n",
       "        (projector): Identity()\n",
       "      )\n",
       "    )\n",
       "    (layer3): Sequential(\n",
       "      (0): InvertedResidual(\n",
       "        (layers1): Sequential(\n",
       "          (0): Conv3d(96, 96, kernel_size=(1, 1, 1), stride=(1, 1, 1), bias=False)\n",
       "          (1): GroupNorm(8, 96, eps=1e-05, affine=True)\n",
       "          (2): ELU(alpha=1.0, inplace=True)\n",
       "          (3): Conv3d(96, 96, kernel_size=(3, 3, 3), stride=(2, 2, 2), padding=(1, 1, 1), groups=96, bias=False, padding_mode=replicate)\n",
       "          (4): GroupNorm(8, 96, eps=1e-05, affine=True)\n",
       "          (5): ELU(alpha=1.0, inplace=True)\n",
       "        )\n",
       "        (layers2): Sequential(\n",
       "          (0): Conv3d(96, 128, kernel_size=(1, 1, 1), stride=(1, 1, 1), bias=False)\n",
       "          (1): GroupNorm(8, 128, eps=1e-05, affine=True)\n",
       "        )\n",
       "        (attention): SELayer3d(\n",
       "          (avg_pool): AdaptiveAvgPool3d(output_size=1)\n",
       "          (fc): Sequential(\n",
       "            (0): Linear(in_features=96, out_features=12, bias=False)\n",
       "            (1): ReLU(inplace=True)\n",
       "            (2): Linear(in_features=12, out_features=96, bias=False)\n",
       "            (3): Sigmoid()\n",
       "          )\n",
       "        )\n",
       "        (projector): Sequential(\n",
       "          (0): AvgPool3d(kernel_size=(2, 2, 2), stride=(2, 2, 2), padding=0)\n",
       "          (1): Sequential(\n",
       "            (0): Conv3d(96, 128, kernel_size=(1, 1, 1), stride=(1, 1, 1), bias=False, padding_mode=replicate)\n",
       "            (1): GroupNorm(8, 128, eps=1e-05, affine=True)\n",
       "            (2): Identity()\n",
       "          )\n",
       "        )\n",
       "      )\n",
       "      (1): InvertedResidual(\n",
       "        (layers1): Sequential(\n",
       "          (0): Conv3d(128, 128, kernel_size=(1, 1, 1), stride=(1, 1, 1), bias=False)\n",
       "          (1): GroupNorm(8, 128, eps=1e-05, affine=True)\n",
       "          (2): ELU(alpha=1.0, inplace=True)\n",
       "          (3): Conv3d(128, 128, kernel_size=(3, 3, 3), stride=(1, 1, 1), padding=(1, 1, 1), groups=128, bias=False, padding_mode=replicate)\n",
       "          (4): GroupNorm(8, 128, eps=1e-05, affine=True)\n",
       "          (5): ELU(alpha=1.0, inplace=True)\n",
       "        )\n",
       "        (layers2): Sequential(\n",
       "          (0): Conv3d(128, 128, kernel_size=(1, 1, 1), stride=(1, 1, 1), bias=False)\n",
       "          (1): GroupNorm(8, 128, eps=1e-05, affine=True)\n",
       "        )\n",
       "        (attention): SELayer3d(\n",
       "          (avg_pool): AdaptiveAvgPool3d(output_size=1)\n",
       "          (fc): Sequential(\n",
       "            (0): Linear(in_features=128, out_features=16, bias=False)\n",
       "            (1): ReLU(inplace=True)\n",
       "            (2): Linear(in_features=16, out_features=128, bias=False)\n",
       "            (3): Sigmoid()\n",
       "          )\n",
       "        )\n",
       "        (projector): Identity()\n",
       "      )\n",
       "    )\n",
       "    (layer4): Sequential(\n",
       "      (0): InvertedResidual(\n",
       "        (layers1): Sequential(\n",
       "          (0): Conv3d(128, 128, kernel_size=(1, 1, 1), stride=(1, 1, 1), bias=False)\n",
       "          (1): GroupNorm(8, 128, eps=1e-05, affine=True)\n",
       "          (2): ELU(alpha=1.0, inplace=True)\n",
       "          (3): Conv3d(128, 128, kernel_size=(3, 3, 3), stride=(2, 2, 2), padding=(1, 1, 1), groups=128, bias=False, padding_mode=replicate)\n",
       "          (4): GroupNorm(8, 128, eps=1e-05, affine=True)\n",
       "          (5): ELU(alpha=1.0, inplace=True)\n",
       "        )\n",
       "        (layers2): Sequential(\n",
       "          (0): Conv3d(128, 160, kernel_size=(1, 1, 1), stride=(1, 1, 1), bias=False)\n",
       "          (1): GroupNorm(8, 160, eps=1e-05, affine=True)\n",
       "        )\n",
       "        (attention): SELayer3d(\n",
       "          (avg_pool): AdaptiveAvgPool3d(output_size=1)\n",
       "          (fc): Sequential(\n",
       "            (0): Linear(in_features=128, out_features=16, bias=False)\n",
       "            (1): ReLU(inplace=True)\n",
       "            (2): Linear(in_features=16, out_features=128, bias=False)\n",
       "            (3): Sigmoid()\n",
       "          )\n",
       "        )\n",
       "        (projector): Sequential(\n",
       "          (0): AvgPool3d(kernel_size=(2, 2, 2), stride=(2, 2, 2), padding=0)\n",
       "          (1): Sequential(\n",
       "            (0): Conv3d(128, 160, kernel_size=(1, 1, 1), stride=(1, 1, 1), bias=False, padding_mode=replicate)\n",
       "            (1): GroupNorm(8, 160, eps=1e-05, affine=True)\n",
       "            (2): Identity()\n",
       "          )\n",
       "        )\n",
       "      )\n",
       "      (1): InvertedResidual(\n",
       "        (layers1): Sequential(\n",
       "          (0): Conv3d(160, 160, kernel_size=(1, 1, 1), stride=(1, 1, 1), bias=False)\n",
       "          (1): GroupNorm(8, 160, eps=1e-05, affine=True)\n",
       "          (2): ELU(alpha=1.0, inplace=True)\n",
       "          (3): Conv3d(160, 160, kernel_size=(3, 3, 3), stride=(1, 1, 1), padding=(1, 1, 1), groups=160, bias=False, padding_mode=replicate)\n",
       "          (4): GroupNorm(8, 160, eps=1e-05, affine=True)\n",
       "          (5): ELU(alpha=1.0, inplace=True)\n",
       "        )\n",
       "        (layers2): Sequential(\n",
       "          (0): Conv3d(160, 160, kernel_size=(1, 1, 1), stride=(1, 1, 1), bias=False)\n",
       "          (1): GroupNorm(8, 160, eps=1e-05, affine=True)\n",
       "        )\n",
       "        (attention): SELayer3d(\n",
       "          (avg_pool): AdaptiveAvgPool3d(output_size=1)\n",
       "          (fc): Sequential(\n",
       "            (0): Linear(in_features=160, out_features=20, bias=False)\n",
       "            (1): ReLU(inplace=True)\n",
       "            (2): Linear(in_features=20, out_features=160, bias=False)\n",
       "            (3): Sigmoid()\n",
       "          )\n",
       "        )\n",
       "        (projector): Identity()\n",
       "      )\n",
       "    )\n",
       "  )\n",
       "  (middle_convs): Sequential(\n",
       "    (0): Sequential(\n",
       "      (0): Conv3d(160, 160, kernel_size=(3, 3, 3), stride=(1, 1, 1), padding=(1, 1, 1), bias=False, padding_mode=replicate)\n",
       "      (1): GroupNorm(8, 160, eps=1e-05, affine=True)\n",
       "      (2): ELU(alpha=1.0, inplace=True)\n",
       "    )\n",
       "    (1): Sequential(\n",
       "      (0): Conv3d(160, 160, kernel_size=(3, 3, 3), stride=(1, 1, 1), padding=(1, 1, 1), bias=False, padding_mode=replicate)\n",
       "      (1): GroupNorm(8, 160, eps=1e-05, affine=True)\n",
       "      (2): ELU(alpha=1.0, inplace=True)\n",
       "    )\n",
       "  )\n",
       "  (smooth): ModuleList(\n",
       "    (0): Sequential(\n",
       "      (0): Conv3d(64, 32, kernel_size=(1, 3, 3), stride=(1, 1, 1), padding=(0, 1, 1), bias=False, padding_mode=replicate)\n",
       "      (1): GroupNorm(8, 32, eps=1e-05, affine=True)\n",
       "      (2): ELU(alpha=1.0, inplace=True)\n",
       "    )\n",
       "    (1): Sequential(\n",
       "      (0): Conv3d(96, 64, kernel_size=(1, 3, 3), stride=(1, 1, 1), padding=(0, 1, 1), bias=False, padding_mode=replicate)\n",
       "      (1): GroupNorm(8, 64, eps=1e-05, affine=True)\n",
       "      (2): ELU(alpha=1.0, inplace=True)\n",
       "    )\n",
       "    (2): Sequential(\n",
       "      (0): Conv3d(128, 96, kernel_size=(3, 3, 3), stride=(1, 1, 1), padding=(1, 1, 1), bias=False, padding_mode=replicate)\n",
       "      (1): GroupNorm(8, 96, eps=1e-05, affine=True)\n",
       "      (2): ELU(alpha=1.0, inplace=True)\n",
       "    )\n",
       "    (3): Sequential(\n",
       "      (0): Conv3d(160, 128, kernel_size=(3, 3, 3), stride=(1, 1, 1), padding=(1, 1, 1), bias=False, padding_mode=replicate)\n",
       "      (1): GroupNorm(8, 128, eps=1e-05, affine=True)\n",
       "      (2): ELU(alpha=1.0, inplace=True)\n",
       "    )\n",
       "  )\n",
       "  (convs): ModuleList(\n",
       "    (0): Sequential(\n",
       "      (0): Conv3d(64, 32, kernel_size=(1, 3, 3), stride=(1, 1, 1), padding=(0, 1, 1), bias=False, padding_mode=replicate)\n",
       "      (1): GroupNorm(8, 32, eps=1e-05, affine=True)\n",
       "      (2): ELU(alpha=1.0, inplace=True)\n",
       "    )\n",
       "    (1): Sequential(\n",
       "      (0): Conv3d(128, 64, kernel_size=(1, 3, 3), stride=(1, 1, 1), padding=(0, 1, 1), bias=False, padding_mode=replicate)\n",
       "      (1): GroupNorm(8, 64, eps=1e-05, affine=True)\n",
       "      (2): ELU(alpha=1.0, inplace=True)\n",
       "    )\n",
       "    (2): Sequential(\n",
       "      (0): Conv3d(192, 96, kernel_size=(3, 3, 3), stride=(1, 1, 1), padding=(1, 1, 1), bias=False, padding_mode=replicate)\n",
       "      (1): GroupNorm(8, 96, eps=1e-05, affine=True)\n",
       "      (2): ELU(alpha=1.0, inplace=True)\n",
       "    )\n",
       "    (3): Sequential(\n",
       "      (0): Conv3d(256, 128, kernel_size=(3, 3, 3), stride=(1, 1, 1), padding=(1, 1, 1), bias=False, padding_mode=replicate)\n",
       "      (1): GroupNorm(8, 128, eps=1e-05, affine=True)\n",
       "      (2): ELU(alpha=1.0, inplace=True)\n",
       "    )\n",
       "  )\n",
       "  (post_up_conv): Sequential(\n",
       "    (0): Conv3d(32, 32, kernel_size=(3, 3, 3), stride=(1, 1, 1), padding=(1, 1, 1), bias=False, padding_mode=replicate)\n",
       "    (1): GroupNorm(8, 32, eps=1e-05, affine=True)\n",
       "    (2): ELU(alpha=1.0, inplace=True)\n",
       "  )\n",
       "  (res_block): InvertedResidual(\n",
       "    (layers1): Sequential(\n",
       "      (0): Conv3d(33, 40, kernel_size=(1, 1, 1), stride=(1, 1, 1), bias=False)\n",
       "      (1): GroupNorm(8, 40, eps=1e-05, affine=True)\n",
       "      (2): ELU(alpha=1.0, inplace=True)\n",
       "      (3): Conv3d(40, 40, kernel_size=(5, 5, 5), stride=(1, 1, 1), padding=(2, 2, 2), groups=40, bias=False, padding_mode=replicate)\n",
       "      (4): GroupNorm(8, 40, eps=1e-05, affine=True)\n",
       "      (5): ELU(alpha=1.0, inplace=True)\n",
       "    )\n",
       "    (layers2): Sequential(\n",
       "      (0): Conv3d(40, 32, kernel_size=(1, 1, 1), stride=(1, 1, 1))\n",
       "      (1): GroupNorm(8, 32, eps=1e-05, affine=True)\n",
       "    )\n",
       "    (attention): Identity()\n",
       "    (projector): Sequential(\n",
       "      (0): Conv3d(33, 32, kernel_size=(1, 1, 1), stride=(1, 1, 1), bias=False, padding_mode=replicate)\n",
       "      (1): GroupNorm(8, 32, eps=1e-05, affine=True)\n",
       "      (2): Identity()\n",
       "    )\n",
       "  )\n",
       "  (conv_out): Sequential(\n",
       "    (0): Conv3d(32, 3, kernel_size=(1, 5, 5), stride=(1, 1, 1), padding=(0, 2, 2), padding_mode=replicate)\n",
       "    (1): Identity()\n",
       "    (2): Identity()\n",
       "  )\n",
       ")"
      ]
     },
     "execution_count": 5,
     "metadata": {},
     "output_type": "execute_result"
    }
   ],
   "source": [
    "model"
   ]
  },
  {
   "cell_type": "code",
   "execution_count": 6,
   "metadata": {},
   "outputs": [
    {
     "name": "stdout",
     "output_type": "stream",
     "text": [
      "torch.Size([1, 3, 114, 320, 320])\n",
      "CPU times: user 131 ms, sys: 70.5 ms, total: 201 ms\n",
      "Wall time: 240 ms\n"
     ]
    }
   ],
   "source": [
    "model.cuda()\n",
    "# with torch.no_grad():\n",
    "%time print(model(torch.randn(1,1,114,320,320).cuda()).shape)"
   ]
  },
  {
   "cell_type": "code",
   "execution_count": 5,
   "metadata": {},
   "outputs": [
    {
     "name": "stderr",
     "output_type": "stream",
     "text": [
      "/n/home11/abanerjee/.conda/envs/snemi_new/lib/python3.9/site-packages/torch/nn/modules/loss.py:529: UserWarning: Using a target size (torch.Size([1, 1, 96, 320, 320])) that is different to the input size (torch.Size([1, 3, 96, 320, 320])). This will likely lead to incorrect results due to broadcasting. Please ensure they have the same size.\n",
      "  return F.mse_loss(input, target, reduction=self.reduction)\n"
     ]
    },
    {
     "name": "stdout",
     "output_type": "stream",
     "text": [
      "tensor(2.7839, device='cuda:0', grad_fn=<MseLossBackward0>)\n",
      "tensor(4.2457, device='cuda:0', grad_fn=<MseLossBackward0>)\n",
      "tensor(1.9718, device='cuda:0', grad_fn=<MseLossBackward0>)\n",
      "tensor(1.5941, device='cuda:0', grad_fn=<MseLossBackward0>)\n",
      "tensor(1.6153, device='cuda:0', grad_fn=<MseLossBackward0>)\n",
      "tensor(1.5250, device='cuda:0', grad_fn=<MseLossBackward0>)\n",
      "tensor(1.3983, device='cuda:0', grad_fn=<MseLossBackward0>)\n",
      "tensor(1.2866, device='cuda:0', grad_fn=<MseLossBackward0>)\n",
      "tensor(1.2593, device='cuda:0', grad_fn=<MseLossBackward0>)\n",
      "tensor(1.2754, device='cuda:0', grad_fn=<MseLossBackward0>)\n"
     ]
    }
   ],
   "source": [
    "# 64 -> 23849 MB mem usage\n",
    "# 96 -> 31257 MB mem usage -> should fit on a100 with mixed prec\n",
    "\n",
    "model.cuda()\n",
    "opt = torch.optim.Adam(model.parameters())\n",
    "L = torch.nn.MSELoss()\n",
    "\n",
    "for _ in range(10):\n",
    "    x,y = torch.randn(1,1,96,320,320).cuda(), torch.randn(1,1,96,320,320).cuda()\n",
    "    p = model(x)\n",
    "    l = L(p,y)\n",
    "    print(l)\n",
    "    \n",
    "    opt.zero_grad()\n",
    "    l.backward()\n",
    "    opt.step()"
   ]
  },
  {
   "cell_type": "code",
   "execution_count": 11,
   "metadata": {},
   "outputs": [
    {
     "name": "stdout",
     "output_type": "stream",
     "text": [
      "Optimizer:  SGD\n",
      "Channel split rule for prediction:  [3]\n",
      "Channel split rule for prediction:  [3]\n"
     ]
    },
    {
     "name": "stderr",
     "output_type": "stream",
     "text": [
      "/net/coxfs01/srv/export/coxfs01/pfister_lab2/share_root/Lab/abanerjee/UW_Madison/pytorch_connectomics/projects/UWMadison/train.py:100: ParserWarning: Falling back to the 'python' engine because the 'c' engine does not support regex separators (separators > 1 char and different from '\\s+' are interpreted as regex); you can avoid this warning by specifying engine='python'.\n",
      "  df=pd.read_csv('/n/home11/abanerjee/UW_Madison/data/train_set.csv', delimiter='; '),\n"
     ]
    },
    {
     "name": "stdout",
     "output_type": "stream",
     "text": [
      "Total number of samples to be generated:  0.0\n"
     ]
    },
    {
     "name": "stderr",
     "output_type": "stream",
     "text": [
      "/net/coxfs01/srv/export/coxfs01/pfister_lab2/share_root/Lab/abanerjee/UW_Madison/pytorch_connectomics/projects/UWMadison/train.py:110: ParserWarning: Falling back to the 'python' engine because the 'c' engine does not support regex separators (separators > 1 char and different from '\\s+' are interpreted as regex); you can avoid this warning by specifying engine='python'.\n",
      "  df=pd.read_csv('/n/home11/abanerjee/UW_Madison/data/train_set.csv', delimiter='; '),\n"
     ]
    },
    {
     "name": "stdout",
     "output_type": "stream",
     "text": [
      "Total number of samples to be generated:  0.0\n"
     ]
    }
   ],
   "source": [
    "from train import MadiTrainer\n",
    "\n",
    "t = MadiTrainer(cfg, 0)"
   ]
  },
  {
   "cell_type": "code",
   "execution_count": 16,
   "metadata": {},
   "outputs": [
    {
     "name": "stdout",
     "output_type": "stream",
     "text": [
      "CPU times: user 1.76 s, sys: 1.01 s, total: 2.77 s\n",
      "Wall time: 1.9 s\n"
     ]
    }
   ],
   "source": [
    "%time out = t.train_dataset[0]"
   ]
  },
  {
   "cell_type": "code",
   "execution_count": 12,
   "metadata": {},
   "outputs": [
    {
     "name": "stdout",
     "output_type": "stream",
     "text": [
      "CPU times: user 601 ms, sys: 601 ms, total: 1.2 s\n",
      "Wall time: 1.2 s\n"
     ]
    }
   ],
   "source": [
    "%time out = t.train_dataset[0]"
   ]
  },
  {
   "cell_type": "code",
   "execution_count": 17,
   "metadata": {},
   "outputs": [
    {
     "data": {
      "text/plain": [
       "(1, 96, 320, 320)"
      ]
     },
     "execution_count": 17,
     "metadata": {},
     "output_type": "execute_result"
    }
   ],
   "source": [
    "out[1].shape"
   ]
  },
  {
   "cell_type": "code",
   "execution_count": 28,
   "metadata": {},
   "outputs": [
    {
     "data": {
      "text/plain": [
       "<matplotlib.image.AxesImage at 0x2b9ce63864c0>"
      ]
     },
     "execution_count": 28,
     "metadata": {},
     "output_type": "execute_result"
    },
    {
     "data": {
      "image/png": "[encoded data removed]",
      "text/plain": [
       "<Figure size 432x288 with 1 Axes>"
      ]
     },
     "metadata": {
      "needs_background": "light"
     },
     "output_type": "display_data"
    }
   ],
   "source": [
    "plt.imshow(out[1][0, 55])"
   ]
  },
  {
   "cell_type": "code",
   "execution_count": 12,
   "metadata": {},
   "outputs": [
    {
     "data": {
      "text/plain": [
       "(3, 96, 320, 320)"
      ]
     },
     "execution_count": 12,
     "metadata": {},
     "output_type": "execute_result"
    }
   ],
   "source": [
    "out[2][0].shape"
   ]
  },
  {
   "cell_type": "code",
   "execution_count": 29,
   "metadata": {},
   "outputs": [
    {
     "data": {
      "text/plain": [
       "<matplotlib.image.AxesImage at 0x2b9ce63e52b0>"
      ]
     },
     "execution_count": 29,
     "metadata": {},
     "output_type": "execute_result"
    },
    {
     "data": {
      "image/png": "[encoded data removed]",
      "text/plain": [
       "<Figure size 432x288 with 1 Axes>"
      ]
     },
     "metadata": {
      "needs_background": "light"
     },
     "output_type": "display_data"
    }
   ],
   "source": [
    "plt.imshow(out[2][0][:, 55].transpose(1,2,0))"
   ]
  },
  {
   "cell_type": "code",
   "execution_count": 30,
   "metadata": {},
   "outputs": [
    {
     "name": "stderr",
     "output_type": "stream",
     "text": [
      "[autoreload of train failed: Traceback (most recent call last):\n",
      "  File \"/n/home11/abanerjee/.conda/envs/snemi_new/lib/python3.9/site-packages/IPython/extensions/autoreload.py\", line 257, in check\n",
      "    superreload(m, reload, self.old_objects)\n",
      "  File \"/n/home11/abanerjee/.conda/envs/snemi_new/lib/python3.9/site-packages/IPython/extensions/autoreload.py\", line 455, in superreload\n",
      "    module = reload(module)\n",
      "  File \"/n/home11/abanerjee/.conda/envs/snemi_new/lib/python3.9/importlib/__init__.py\", line 169, in reload\n",
      "    _bootstrap._exec(spec, module)\n",
      "  File \"<frozen importlib._bootstrap>\", line 613, in _exec\n",
      "  File \"<frozen importlib._bootstrap_external>\", line 850, in exec_module\n",
      "  File \"<frozen importlib._bootstrap>\", line 228, in _call_with_frames_removed\n",
      "  File \"/net/coxfs01/srv/export/coxfs01/pfister_lab2/share_root/Lab/abanerjee/UW_Madison/pytorch_connectomics/projects/UWMadison/train.py\", line 26, in <module>\n",
      "    import Albumentations as A\n",
      "ModuleNotFoundError: No module named 'Albumentations'\n",
      "]\n"
     ]
    },
    {
     "data": {
      "text/plain": [
       "dtype('float32')"
      ]
     },
     "execution_count": 30,
     "metadata": {},
     "output_type": "execute_result"
    }
   ],
   "source": [
    "out[2][0].dtype"
   ]
  },
  {
   "cell_type": "code",
   "execution_count": 24,
   "metadata": {},
   "outputs": [
    {
     "data": {
      "text/plain": [
       "array([32, 33, 34, 35, 36, 37, 38, 39, 40, 41, 42, 43, 44, 45, 46, 47, 48,\n",
       "       49, 50, 51, 52, 53, 54, 55, 56, 57, 58, 59, 60, 61, 62, 63, 64, 65,\n",
       "       66, 67, 68, 69, 70, 71])"
      ]
     },
     "execution_count": 24,
     "metadata": {},
     "output_type": "execute_result"
    }
   ],
   "source": [
    "np.unique(np.where(out[2][0]>0)[1])"
   ]
  },
  {
   "cell_type": "code",
   "execution_count": 16,
   "metadata": {},
   "outputs": [
    {
     "ename": "IndexError",
     "evalue": "list index out of range",
     "output_type": "error",
     "traceback": [
      "\u001b[0;31m---------------------------------------------------------------------------\u001b[0m",
      "\u001b[0;31mIndexError\u001b[0m                                Traceback (most recent call last)",
      "Input \u001b[0;32mIn [16]\u001b[0m, in \u001b[0;36m<cell line: 1>\u001b[0;34m()\u001b[0m\n\u001b[0;32m----> 1\u001b[0m np\u001b[38;5;241m.\u001b[39munique(\u001b[43mout\u001b[49m\u001b[43m[\u001b[49m\u001b[38;5;241;43m2\u001b[39;49m\u001b[43m]\u001b[49m\u001b[43m[\u001b[49m\u001b[38;5;241;43m1\u001b[39;49m\u001b[43m]\u001b[49m)\n",
      "\u001b[0;31mIndexError\u001b[0m: list index out of range"
     ]
    }
   ],
   "source": [
    "np.unique(out[2][1])"
   ]
  },
  {
   "cell_type": "code",
   "execution_count": 11,
   "metadata": {},
   "outputs": [
    {
     "data": {
      "text/plain": [
       "array([-0.1792], dtype=float32)"
      ]
     },
     "execution_count": 11,
     "metadata": {},
     "output_type": "execute_result"
    }
   ],
   "source": [
    "import numpy as np\n",
    "np.unique(out[1])"
   ]
  }
 ],
 "metadata": {
  "kernelspec": {
   "display_name": "snemi_new",
   "language": "python",
   "name": "snemi_new"
  },
  "language_info": {
   "codemirror_mode": {
    "name": "ipython",
    "version": 3
   },
   "file_extension": ".py",
   "mimetype": "text/x-python",
   "name": "python",
   "nbconvert_exporter": "python",
   "pygments_lexer": "ipython3",
   "version": "3.9.12"
  }
 },
 "nbformat": 4,
 "nbformat_minor": 2
}
